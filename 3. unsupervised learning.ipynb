{
 "cells": [
  {
   "cell_type": "markdown",
   "id": "61fc5eba",
   "metadata": {},
   "source": [
    "# 비지도 학습"
   ]
  },
  {
   "cell_type": "markdown",
   "id": "2cb0f7f3",
   "metadata": {},
   "source": [
    "비지도 학습이란 알고 있는 출력값이나 정보 없이 학습 알고리즘을 가르쳐야 하는 모든 종류의 머신러닝을 가리킨다. <br>\n",
    "비지도 학습에서 학습 알고리즘은 입력 데이터만으로 데이터에서 지식을 추출할 수 있어야 한다."
   ]
  },
  {
   "cell_type": "markdown",
   "id": "d5ea9908",
   "metadata": {},
   "source": [
    "## 비지도 변환(unsupervised transfrom)"
   ]
  },
  {
   "cell_type": "markdown",
   "id": "68118aa1",
   "metadata": {},
   "source": [
    "<strong>비지도 변환</strong>은 데이터를 새롭게 표현하여 사람이나 다른 머신러닝 알고리즘이 원래 데이터보다 쉽게 해석할 수 있도록 만드는 알고리즘이다.<br> 비지도 변환이 널리 사용되는 분야는 특성이 많은 고차원 데이터를 특성의 수를 줄이면서 꼭 필요한 특징을 포함한 데이터로 표현하는 방법인 <br>차원축소(diemsionality reduction)이다."
   ]
  },
  {
   "cell_type": "code",
   "execution_count": null,
   "id": "aab7a3ff",
   "metadata": {},
   "outputs": [],
   "source": []
  }
 ],
 "metadata": {
  "kernelspec": {
   "display_name": "Python 3 (ipykernel)",
   "language": "python",
   "name": "python3"
  },
  "language_info": {
   "codemirror_mode": {
    "name": "ipython",
    "version": 3
   },
   "file_extension": ".py",
   "mimetype": "text/x-python",
   "name": "python",
   "nbconvert_exporter": "python",
   "pygments_lexer": "ipython3",
   "version": "3.9.12"
  }
 },
 "nbformat": 4,
 "nbformat_minor": 5
}
