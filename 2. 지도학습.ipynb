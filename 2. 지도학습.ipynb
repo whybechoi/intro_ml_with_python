{
 "cells": [
  {
   "cell_type": "code",
   "execution_count": 2,
   "id": "e9cbbf3a",
   "metadata": {},
   "outputs": [
    {
     "name": "stdout",
     "output_type": "stream",
     "text": [
      "Collecting mglearn\n",
      "  Downloading mglearn-0.1.9.tar.gz (540 kB)\n",
      "\u001b[K     |████████████████████████████████| 540 kB 7.9 MB/s eta 0:00:01\n",
      "\u001b[?25hRequirement already satisfied: numpy in /Users/choi/opt/anaconda3/lib/python3.9/site-packages (from mglearn) (1.21.5)\n",
      "Requirement already satisfied: matplotlib in /Users/choi/opt/anaconda3/lib/python3.9/site-packages (from mglearn) (3.5.1)\n",
      "Requirement already satisfied: scikit-learn in /Users/choi/opt/anaconda3/lib/python3.9/site-packages (from mglearn) (1.0.2)\n",
      "Requirement already satisfied: pandas in /Users/choi/opt/anaconda3/lib/python3.9/site-packages (from mglearn) (1.4.2)\n",
      "Requirement already satisfied: pillow in /Users/choi/opt/anaconda3/lib/python3.9/site-packages (from mglearn) (9.0.1)\n",
      "Requirement already satisfied: cycler in /Users/choi/opt/anaconda3/lib/python3.9/site-packages (from mglearn) (0.11.0)\n",
      "Requirement already satisfied: imageio in /Users/choi/opt/anaconda3/lib/python3.9/site-packages (from mglearn) (2.9.0)\n",
      "Requirement already satisfied: joblib in /Users/choi/opt/anaconda3/lib/python3.9/site-packages (from mglearn) (1.1.0)\n",
      "Requirement already satisfied: fonttools>=4.22.0 in /Users/choi/opt/anaconda3/lib/python3.9/site-packages (from matplotlib->mglearn) (4.25.0)\n",
      "Requirement already satisfied: python-dateutil>=2.7 in /Users/choi/opt/anaconda3/lib/python3.9/site-packages (from matplotlib->mglearn) (2.8.2)\n",
      "Requirement already satisfied: packaging>=20.0 in /Users/choi/opt/anaconda3/lib/python3.9/site-packages (from matplotlib->mglearn) (21.3)\n",
      "Requirement already satisfied: kiwisolver>=1.0.1 in /Users/choi/opt/anaconda3/lib/python3.9/site-packages (from matplotlib->mglearn) (1.3.2)\n",
      "Requirement already satisfied: pyparsing>=2.2.1 in /Users/choi/opt/anaconda3/lib/python3.9/site-packages (from matplotlib->mglearn) (3.0.4)\n",
      "Requirement already satisfied: six>=1.5 in /Users/choi/opt/anaconda3/lib/python3.9/site-packages (from python-dateutil>=2.7->matplotlib->mglearn) (1.16.0)\n",
      "Requirement already satisfied: pytz>=2020.1 in /Users/choi/opt/anaconda3/lib/python3.9/site-packages (from pandas->mglearn) (2021.3)\n",
      "Requirement already satisfied: threadpoolctl>=2.0.0 in /Users/choi/opt/anaconda3/lib/python3.9/site-packages (from scikit-learn->mglearn) (2.2.0)\n",
      "Requirement already satisfied: scipy>=1.1.0 in /Users/choi/opt/anaconda3/lib/python3.9/site-packages (from scikit-learn->mglearn) (1.7.3)\n",
      "Building wheels for collected packages: mglearn\n",
      "  Building wheel for mglearn (setup.py) ... \u001b[?25ldone\n",
      "\u001b[?25h  Created wheel for mglearn: filename=mglearn-0.1.9-py2.py3-none-any.whl size=582639 sha256=992c5172294fa3fdb4020316dce98b1461eef951c27a26c6dd86a4b943f5893e\n",
      "  Stored in directory: /Users/choi/Library/Caches/pip/wheels/df/30/8a/1e2c8f144c9d411b0688f628d496d2db8f61b6d14bcedaa1df\n",
      "Successfully built mglearn\n",
      "Installing collected packages: mglearn\n",
      "Successfully installed mglearn-0.1.9\n",
      "Note: you may need to restart the kernel to use updated packages.\n"
     ]
    }
   ],
   "source": [
    "pip install mglearn"
   ]
  },
  {
   "cell_type": "code",
   "execution_count": 8,
   "id": "9411ace2",
   "metadata": {},
   "outputs": [],
   "source": [
    "import pandas as pd\n",
    "import numpy as np\n",
    "import matplotlib.pyplot as plt\n",
    "import mglearn\n",
    "import warnings\n",
    "\n",
    "warnings.filterwarnings(action='ignore')"
   ]
  },
  {
   "cell_type": "code",
   "execution_count": 9,
   "id": "c3b6d253",
   "metadata": {},
   "outputs": [
    {
     "name": "stdout",
     "output_type": "stream",
     "text": [
      "X.shape : (26, 2)\n"
     ]
    },
    {
     "data": {
      "image/png": "[encoded data removed]",
      "text/plain": [
       "<Figure size 432x288 with 1 Axes>"
      ]
     },
     "metadata": {
      "needs_background": "light"
     },
     "output_type": "display_data"
    }
   ],
   "source": [
    "X, y = mglearn.datasets.make_forge()\n",
    "mglearn.discrete_scatter(X[:, 0], X[:, 1], y)\n",
    "plt.legend([\"Class 1\", 'Class 2'], loc=4)\n",
    "plt.xlabel('feature 1')\n",
    "plt.ylabel('feature 2')\n",
    "print(f\"X.shape : {X.shape}\")"
   ]
  },
  {
   "cell_type": "code",
   "execution_count": 11,
   "id": "9e9ae41f",
   "metadata": {},
   "outputs": [
    {
     "data": {
      "text/plain": [
       "Text(0, 0.5, 'target')"
      ]
     },
     "execution_count": 11,
     "metadata": {},
     "output_type": "execute_result"
    },
    {
     "data": {
      "image/png": "[encoded data removed]",
      "text/plain": [
       "<Figure size 432x288 with 1 Axes>"
      ]
     },
     "metadata": {
      "needs_background": "light"
     },
     "output_type": "display_data"
    }
   ],
   "source": [
    "X, y = mglearn.datasets.make_wave(n_samples=40)\n",
    "plt.plot(X, y, 'o')\n",
    "plt.ylim(-3, 3)\n",
    "plt.xlabel('feature')\n",
    "plt.ylabel('target')"
   ]
  },
  {
   "cell_type": "code",
   "execution_count": 23,
   "id": "319aa36d",
   "metadata": {},
   "outputs": [
    {
     "name": "stdout",
     "output_type": "stream",
     "text": [
      "cancer.keys():\n",
      " dict_keys(['data', 'target', 'frame', 'target_names', 'DESCR', 'feature_names', 'filename', 'data_module'])\n"
     ]
    }
   ],
   "source": [
    "from sklearn.datasets import load_breast_cancer\n",
    "cancer = load_breast_cancer()\n",
    "print(f\"cancer.keys():\\n {cancer.keys()}\")"
   ]
  },
  {
   "cell_type": "code",
   "execution_count": 24,
   "id": "248b67d0",
   "metadata": {},
   "outputs": [
    {
     "name": "stdout",
     "output_type": "stream",
     "text": [
      "유방암 데이터의 형태 : (569, 30)\n"
     ]
    }
   ],
   "source": [
    "print(f\"유방암 데이터의 형태 : {cancer.data.shape}\")"
   ]
  },
  {
   "cell_type": "code",
   "execution_count": 29,
   "id": "14148b0e",
   "metadata": {},
   "outputs": [
    {
     "name": "stdout",
     "output_type": "stream",
     "text": [
      "클래스별 샘플 개수 : \n",
      " {'malignant': 212, 'benign': 357}\n"
     ]
    }
   ],
   "source": [
    "print(\"클래스별 샘플 개수 : \\n\", {n: v for n, v in zip(cancer.target_names, np.bincount(cancer.target))})"
   ]
  },
  {
   "cell_type": "code",
   "execution_count": 33,
   "id": "b2f65527",
   "metadata": {},
   "outputs": [
    {
     "name": "stdout",
     "output_type": "stream",
     "text": [
      "특성 이름 : \n",
      " ['mean radius' 'mean texture' 'mean perimeter' 'mean area'\n",
      " 'mean smoothness' 'mean compactness' 'mean concavity'\n",
      " 'mean concave points' 'mean symmetry' 'mean fractal dimension'\n",
      " 'radius error' 'texture error' 'perimeter error' 'area error'\n",
      " 'smoothness error' 'compactness error' 'concavity error'\n",
      " 'concave points error' 'symmetry error' 'fractal dimension error'\n",
      " 'worst radius' 'worst texture' 'worst perimeter' 'worst area'\n",
      " 'worst smoothness' 'worst compactness' 'worst concavity'\n",
      " 'worst concave points' 'worst symmetry' 'worst fractal dimension']\n"
     ]
    }
   ],
   "source": [
    "print(f\"특성 이름 : \\n {cancer.feature_names}\")"
   ]
  },
  {
   "cell_type": "code",
   "execution_count": 45,
   "id": "fac59f1d",
   "metadata": {},
   "outputs": [
    {
     "name": "stdout",
     "output_type": "stream",
     "text": [
      "데이터의 형태 : (506, 13)\n"
     ]
    }
   ],
   "source": [
    "from sklearn.datasets import load_boston\n",
    "boston = load_boston()\n",
    "print(f\"데이터의 형태 : {boston.data.shape}\")"
   ]
  },
  {
   "cell_type": "code",
   "execution_count": 47,
   "id": "5f18b506",
   "metadata": {},
   "outputs": [
    {
     "name": "stdout",
     "output_type": "stream",
     "text": [
      "X.shape : (506, 104)\n"
     ]
    }
   ],
   "source": [
    "X, y = mglearn.datasets.load_extended_boston()\n",
    "print(f\"X.shape : {X.shape}\")"
   ]
  },
  {
   "cell_type": "code",
   "execution_count": 48,
   "id": "732eda65",
   "metadata": {},
   "outputs": [
    {
     "data": {
      "image/png": "[encoded data removed]",
      "text/plain": [
       "<Figure size 432x288 with 1 Axes>"
      ]
     },
     "metadata": {
      "needs_background": "light"
     },
     "output_type": "display_data"
    }
   ],
   "source": [
    "mglearn.plots.plot_knn_classification(n_neighbors=1)"
   ]
  },
  {
   "cell_type": "code",
   "execution_count": null,
   "id": "992bc72c",
   "metadata": {},
   "outputs": [],
   "source": []
  }
 ],
 "metadata": {
  "kernelspec": {
   "display_name": "Python 3 (ipykernel)",
   "language": "python",
   "name": "python3"
  },
  "language_info": {
   "codemirror_mode": {
    "name": "ipython",
    "version": 3
   },
   "file_extension": ".py",
   "mimetype": "text/x-python",
   "name": "python",
   "nbconvert_exporter": "python",
   "pygments_lexer": "ipython3",
   "version": "3.9.12"
  }
 },
 "nbformat": 4,
 "nbformat_minor": 5
}
